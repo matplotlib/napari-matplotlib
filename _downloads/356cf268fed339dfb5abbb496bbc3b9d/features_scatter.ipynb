{
  "cells": [
    {
      "cell_type": "markdown",
      "metadata": {},
      "source": [
        "\n# Scattering features\n"
      ]
    },
    {
      "cell_type": "code",
      "execution_count": null,
      "metadata": {
        "collapsed": false
      },
      "outputs": [],
      "source": [
        "import napari\nimport numpy as np\nfrom skimage.measure import regionprops_table\n\n# make a test label image\nlabel_image = np.zeros((100, 100), dtype=np.uint16)\n\nlabel_image[10:20, 10:20] = 1\nlabel_image[50:70, 50:70] = 2\n\nfeature_table_1 = regionprops_table(\n    label_image, properties=(\"label\", \"area\", \"perimeter\")\n)\nfeature_table_1[\"index\"] = feature_table_1[\"label\"]\n\n# make the points data\nn_points = 100\npoints_data = 100 * np.random.random((100, 2))\npoints_features = {\n    \"feature_0\": np.random.random((n_points,)),\n    \"feature_1\": np.random.random((n_points,)),\n    \"feature_2\": np.random.random((n_points,)),\n}\n\n# create the viewer\nviewer = napari.Viewer()\nviewer.add_labels(label_image, features=feature_table_1)\nviewer.add_points(points_data, features=points_features)\n\n# make the widget\nviewer.window.add_plugin_dock_widget(\n    plugin_name=\"napari-matplotlib\", widget_name=\"FeaturesScatter\"\n)\n\nif __name__ == \"__main__\":\n    napari.run()"
      ]
    }
  ],
  "metadata": {
    "kernelspec": {
      "display_name": "Python 3",
      "language": "python",
      "name": "python3"
    },
    "language_info": {
      "codemirror_mode": {
        "name": "ipython",
        "version": 3
      },
      "file_extension": ".py",
      "mimetype": "text/x-python",
      "name": "python",
      "nbconvert_exporter": "python",
      "pygments_lexer": "ipython3",
      "version": "3.10.12"
    }
  },
  "nbformat": 4,
  "nbformat_minor": 0
}